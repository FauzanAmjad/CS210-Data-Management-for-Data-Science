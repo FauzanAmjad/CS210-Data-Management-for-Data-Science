{
 "cells": [
  {
   "cell_type": "code",
   "execution_count": 295,
   "id": "70a40329",
   "metadata": {},
   "outputs": [],
   "source": [
    "import re\n",
    "from collections import Counter\n",
    "import math"
   ]
  },
  {
   "cell_type": "code",
   "execution_count": 296,
   "id": "63826b50",
   "metadata": {},
   "outputs": [],
   "source": [
    "def clean(f):\n",
    "    file = open(f)\n",
    "    cleanWords = [];\n",
    "    for line in open(f):\n",
    "        for word in line.split():\n",
    "            if(re.match('((http://)|https://)', word)):\n",
    "                continue\n",
    "            word = re.sub('[\\W]+', '', word)\n",
    "            cleanWords.append(word.lower())\n",
    "    file.close()\n",
    "    return cleanWords"
   ]
  },
  {
   "cell_type": "code",
   "execution_count": 297,
   "id": "1c7f58ef",
   "metadata": {},
   "outputs": [],
   "source": [
    "def removeStopwords(words):\n",
    "    f = open('stopwords.txt', 'r')\n",
    "    stopwords = f.read().split()\n",
    "    retWords = []\n",
    "    for word in words:\n",
    "        if (word in stopwords):\n",
    "            continue\n",
    "        else:\n",
    "            retWords.append(word)\n",
    "    f.close()\n",
    "    return retWords  "
   ]
  },
  {
   "cell_type": "code",
   "execution_count": 298,
   "id": "8ae0b489",
   "metadata": {},
   "outputs": [],
   "source": [
    "def reduceWords(words):\n",
    "    ret = []\n",
    "    for word in words:\n",
    "        word = re.sub('(ing|ly|ment)$', '', word)\n",
    "        ret.append(word)\n",
    "    return ret"
   ]
  },
  {
   "cell_type": "code",
   "execution_count": 299,
   "id": "9a5a6f6f",
   "metadata": {},
   "outputs": [],
   "source": [
    "def printWordsToFile(words, filename):\n",
    "    fileToMake = 'preproc_' + filename\n",
    "    f = open(fileToMake, 'w')\n",
    "    i = 0\n",
    "    length = len(words) - 1\n",
    "    for word in words:\n",
    "        f.write(word + ' ') if i != length else f.write(word)\n",
    "        i += 1"
   ]
  },
  {
   "cell_type": "code",
   "execution_count": 300,
   "id": "3c736ad0",
   "metadata": {},
   "outputs": [],
   "source": [
    "def preprocess():\n",
    "    fileNames = []\n",
    "    for line in open('tfidf_docs.txt'):\n",
    "        fileName = line.strip()\n",
    "        fileNames.append('preproc_' + fileName)\n",
    "        cleanWords = clean(fileName)\n",
    "        stopwordsRemoved = removeStopwords(cleanWords)\n",
    "        reducedWords = reduceWords(stopwordsRemoved)\n",
    "        printWordsToFile(reducedWords, fileName)\n",
    "    return fileNames"
   ]
  },
  {
   "cell_type": "code",
   "execution_count": 301,
   "id": "a1e2101a",
   "metadata": {},
   "outputs": [],
   "source": [
    "def computeTF(words, allWordsCtr):\n",
    "    ret = []\n",
    "    wordCounts = Counter(words)\n",
    "    allWordsCtr.update(wordCounts.keys())\n",
    "    numWords = sum(wordCounts.values())\n",
    "    for item in wordCounts.items():\n",
    "        TFscore = item[1]/numWords\n",
    "        ret.append((item[0], TFscore))\n",
    "    return ret"
   ]
  },
  {
   "cell_type": "code",
   "execution_count": 302,
   "id": "4d26a5f0",
   "metadata": {},
   "outputs": [],
   "source": [
    "def computeIDF(ctr, numDocs):\n",
    "    IDFDict = {}\n",
    "    ctrList = list(ctr.items())\n",
    "    for t in ctrList:\n",
    "        word = t[0]\n",
    "        count = t[1]\n",
    "        IDFDict[word] = math.log((numDocs/count)) + 1\n",
    "    return IDFDict  "
   ]
  },
  {
   "cell_type": "code",
   "execution_count": 303,
   "id": "758a4ff6",
   "metadata": {},
   "outputs": [],
   "source": [
    "def computeTFIDF(TFs, IDF):\n",
    "    TFIDFs = []\n",
    "    for TF in TFs:\n",
    "        TFIDF = []\n",
    "        for i in TF:\n",
    "            word = i[0]\n",
    "            scoreTF = i[1]\n",
    "            scoreIDF = IDF[word]\n",
    "            scoreTFIDF = round(i[1] * IDF[word], 2)\n",
    "            TFIDF.append((word, scoreTFIDF))\n",
    "        TFIDFs.append(TFIDF)\n",
    "    return TFIDFs"
   ]
  },
  {
   "cell_type": "code",
   "execution_count": 304,
   "id": "48903178",
   "metadata": {},
   "outputs": [],
   "source": [
    "def printTopFiveScores(scoresList, files):\n",
    "    i = 0\n",
    "    for file in files:\n",
    "        fw = 'tfidf' + file[7:]\n",
    "        f = open(fw, 'w')\n",
    "        sortedScores = sorted(scoresList[i], key = lambda t: (-t[1], t[0]))\n",
    "        f.write(str(sortedScores[:5]))\n",
    "        i += 1"
   ]
  },
  {
   "cell_type": "code",
   "execution_count": 305,
   "id": "14d3380d",
   "metadata": {},
   "outputs": [],
   "source": [
    "def computeScores(files):\n",
    "    numDocs = len(files)\n",
    "    TFs = []\n",
    "    allWordsCtr = Counter()\n",
    "    for f in files:\n",
    "        words = []\n",
    "        for line in open(f):\n",
    "            line = line.strip()\n",
    "            words.extend(line.split())\n",
    "        TFs.append(computeTF(words, allWordsCtr))\n",
    "    IDF = computeIDF(allWordsCtr, numDocs)\n",
    "    TFIDFs = computeTFIDF(TFs, IDF)\n",
    "    printTopFiveScores(TFIDFs, files)"
   ]
  },
  {
   "cell_type": "code",
   "execution_count": 306,
   "id": "b1069d19",
   "metadata": {},
   "outputs": [],
   "source": [
    "def textProcessing():\n",
    "    files = preprocess()\n",
    "    computeScores(files)\n",
    "\n",
    "textProcessing()"
   ]
  }
 ],
 "metadata": {
  "kernelspec": {
   "display_name": "Python 3 (ipykernel)",
   "language": "python",
   "name": "python3"
  },
  "language_info": {
   "codemirror_mode": {
    "name": "ipython",
    "version": 3
   },
   "file_extension": ".py",
   "mimetype": "text/x-python",
   "name": "python",
   "nbconvert_exporter": "python",
   "pygments_lexer": "ipython3",
   "version": "3.9.12"
  }
 },
 "nbformat": 4,
 "nbformat_minor": 5
}
